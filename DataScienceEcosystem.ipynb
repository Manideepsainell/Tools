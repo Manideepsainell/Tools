{
 "cells": [
  {
   "cell_type": "markdown",
   "id": "24f10490-586f-4e4f-8229-fc0bafe213f2",
   "metadata": {},
   "source": [
    "<h1 style=font-style:bold>Data Science Tools and Ecosystem</h1>\n"
   ]
  },
  {
   "cell_type": "markdown",
   "id": "84932435-55c8-4858-906f-89425cffe08e",
   "metadata": {},
   "source": [
    "Introduction:\n",
    "In this notebook, Data Science Tools and Ecosystem are summarized."
   ]
  },
  {
   "cell_type": "markdown",
   "id": "3d2a015e-5f6b-40ee-93a9-c1d8bc077690",
   "metadata": {},
   "source": [
    "<h3 style=font-style:bold>Objectives:\n",
    "    \n",
    "<h4> *List of popular languages for Data Science</h4>\n",
    "    \n",
    "<h4>*List of commonly used libraries by Data Scientists</h4>\n",
    "     \n",
    "<h4>*Examples of evaluating Arithmetic expressions in python</h4>\n",
    "    "
   ]
  },
  {
   "cell_type": "markdown",
   "id": "2aaa31fb-aa9b-41bb-a13e-725ade031cac",
   "metadata": {},
   "source": [
    "<h2 style>Author</h2>\n",
    "Manideepsai "
   ]
  },
  {
   "cell_type": "markdown",
   "id": "151855dc-f2c6-45bd-b538-1afbc66a9fa2",
   "metadata": {},
   "source": [
    "Some of the popular languages that Data Scientists use are:\n",
    "\n",
    "1)Java\n",
    "2)R\n",
    "3)SQL"
   ]
  },
  {
   "cell_type": "markdown",
   "id": "e6d2da43-7da5-4296-bbcd-776694e3c4b3",
   "metadata": {
    "tags": []
   },
   "source": [
    "Some of the commonly used libraries used by Data Scientists include:\n",
    "\n",
    "1)Pandas\n",
    "2)Numpy\n",
    "3)ggplot"
   ]
  },
  {
   "cell_type": "markdown",
   "id": "24891a0f-c03b-403d-8b67-b386480e26dc",
   "metadata": {},
   "source": [
    "|Data Science Tools|\n",
    "|:---------------:|\n",
    "|Hadoop           |\n",
    "|Hue              |\n",
    "|mongoDB          |"
   ]
  },
  {
   "cell_type": "markdown",
   "id": "40e310b1-603e-4f9a-b36a-c8b960aa16d0",
   "metadata": {},
   "source": [
    "<h3 style=font-style:italic>Below are a few examples of evaluating arithmetic expressions in Python</h3>"
   ]
  },
  {
   "cell_type": "code",
   "execution_count": 3,
   "id": "e0e0a87f-d9e3-4fc5-8b74-ea114076c78d",
   "metadata": {
    "tags": []
   },
   "outputs": [
    {
     "name": "stdin",
     "output_type": "stream",
     "text": [
      "Enter first number: 3\n",
      "Enter second number: 4\n",
      "Enter third number: 5\n"
     ]
    },
    {
     "name": "stdout",
     "output_type": "stream",
     "text": [
      "Result is : 17\n"
     ]
    }
   ],
   "source": [
    "# This a simple arithmetic expression to mutiply then add integers\n",
    "a = int(input(\"Enter first number:\"))\n",
    "b = int(input(\"Enter second number:\"))\n",
    "c = int(input(\"Enter third number:\"))\n",
    "d = (a*b)+c\n",
    "print(\"Result is :\", d)\n"
   ]
  },
  {
   "cell_type": "code",
   "execution_count": 4,
   "id": "8c85c0f9-0b35-4be5-8729-39bf25a9c8e4",
   "metadata": {
    "tags": []
   },
   "outputs": [
    {
     "name": "stdin",
     "output_type": "stream",
     "text": [
      "Enter no.of minutes 200\n"
     ]
    },
    {
     "name": "stdout",
     "output_type": "stream",
     "text": [
      "No.of Hours 3.3333333333333335\n"
     ]
    }
   ],
   "source": [
    "# This will convert 200 minutes to hours by dividing by 60.\n",
    "a = int(input(\"Enter no.of minutes\"))\n",
    "print(\"No.of Hours\", a/60)\n",
    "\n",
    "\n"
   ]
  },
  {
   "cell_type": "code",
   "execution_count": null,
   "id": "811caa06-e026-4b0b-947c-d32e01bb6e8c",
   "metadata": {},
   "outputs": [],
   "source": []
  }
 ],
 "metadata": {
  "kernelspec": {
   "display_name": "Python",
   "language": "python",
   "name": "conda-env-python-py"
  },
  "language_info": {
   "codemirror_mode": {
    "name": "ipython",
    "version": 3
   },
   "file_extension": ".py",
   "mimetype": "text/x-python",
   "name": "python",
   "nbconvert_exporter": "python",
   "pygments_lexer": "ipython3",
   "version": "3.7.12"
  }
 },
 "nbformat": 4,
 "nbformat_minor": 5
}
